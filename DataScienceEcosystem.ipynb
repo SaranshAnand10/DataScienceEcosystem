{
 "cells": [
  {
   "cell_type": "markdown",
   "id": "8aec65fe-f899-4635-9503-e838beefe36f",
   "metadata": {
    "tags": []
   },
   "source": [
    "#Title of the notebook\n",
    "\n",
    "# Data Science Tools and Ecosystem"
   ]
  },
  {
   "cell_type": "markdown",
   "id": "6fa62f13-5c26-4fbe-aea3-a736a371969b",
   "metadata": {},
   "source": [
    "#Introduction of the notebook\n",
    "\n",
    "In this notebook, Data Science Tools & Ecosystem are summarized"
   ]
  },
  {
   "cell_type": "markdown",
   "id": "2160c3a9-36d8-46c6-86ef-75d7ce6d0336",
   "metadata": {},
   "source": [
    "#List of Data Science Languages\n",
    "\n",
    "# List of Data Science languages:\n",
    "\n",
    "1. Python\n",
    "2. R\n",
    "3. SQL\n",
    "4. Julia\n",
    "5. Scala\n",
    "6. Java"
   ]
  },
  {
   "cell_type": "markdown",
   "id": "068cc432-3784-45e4-9002-64f9b780521c",
   "metadata": {},
   "source": [
    "#List of Data Science Libraries\n",
    "\n",
    "# List of Data Science Libraries:\n",
    "1. Pandas\n",
    "2. Numpy\n",
    "3. Caret\n",
    "4. GGplot\n",
    "5. Sci-kit learn"
   ]
  },
  {
   "cell_type": "markdown",
   "id": "9c277ead-3382-47c1-b4c0-5f84d2c7e848",
   "metadata": {},
   "source": [
    "#Data Science Tools\n",
    "\n",
    "|Data Science Tools|\n",
    "|:----------------:|\n",
    "|Pandas|\n",
    "|Knime|\n",
    "|Hadoop|"
   ]
  },
  {
   "cell_type": "markdown",
   "id": "27ad2e87-911b-4252-92be-a1e203e2c085",
   "metadata": {},
   "source": [
    "### Below are a few examples of evaluating arithmetic expressions in Python\n",
    "\n",
    "1. 5*5 = 25\n",
    "2. 6*6 = 36\n",
    "3. 7+21 = 28"
   ]
  },
  {
   "cell_type": "code",
   "execution_count": 2,
   "id": "e327f215-49dd-42cc-bb6f-76b2e9677b24",
   "metadata": {
    "tags": []
   },
   "outputs": [
    {
     "data": {
      "text/plain": [
       "17"
      ]
     },
     "execution_count": 2,
     "metadata": {},
     "output_type": "execute_result"
    }
   ],
   "source": [
    "#This a simple arithmetic expression to mutiply then add integers\n",
    "(3*4)+5"
   ]
  },
  {
   "cell_type": "code",
   "execution_count": 3,
   "id": "c299ab9f-7f3c-4561-897d-076adf50a5f7",
   "metadata": {
    "tags": []
   },
   "outputs": [
    {
     "data": {
      "text/plain": [
       "3.3333333333333335"
      ]
     },
     "execution_count": 3,
     "metadata": {},
     "output_type": "execute_result"
    }
   ],
   "source": [
    " #This will convert 200 minutes to hours by diving by 60\n",
    " 200/60   "
   ]
  },
  {
   "cell_type": "markdown",
   "id": "54c6a72c-5225-403a-960f-41f77e2ff526",
   "metadata": {},
   "source": [
    "#Types of Machine Learning\n",
    "\n",
    "**Objectives**\n",
    "* Supervised Machine Learning\n",
    "* Unsupervised Machine Learning\n",
    "* Reinforcement Machine Learning\n"
   ]
  },
  {
   "cell_type": "markdown",
   "id": "a8ba86dd-c81f-4798-86ae-eea850e6b973",
   "metadata": {},
   "source": [
    "## Author\n",
    "Saransh Anand"
   ]
  },
  {
   "cell_type": "code",
   "execution_count": null,
   "id": "6e7f59dd-4434-4725-9529-af1f8f152db2",
   "metadata": {},
   "outputs": [],
   "source": []
  }
 ],
 "metadata": {
  "kernelspec": {
   "display_name": "Python",
   "language": "python",
   "name": "conda-env-python-py"
  },
  "language_info": {
   "codemirror_mode": {
    "name": "ipython",
    "version": 3
   },
   "file_extension": ".py",
   "mimetype": "text/x-python",
   "name": "python",
   "nbconvert_exporter": "python",
   "pygments_lexer": "ipython3",
   "version": "3.7.12"
  }
 },
 "nbformat": 4,
 "nbformat_minor": 5
}
